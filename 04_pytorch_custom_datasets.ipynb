{
  "nbformat": 4,
  "nbformat_minor": 0,
  "metadata": {
    "colab": {
      "provenance": [],
      "authorship_tag": "ABX9TyMTuXA/lFxSXpnJNXQpnZpj",
      "include_colab_link": true
    },
    "kernelspec": {
      "name": "python3",
      "display_name": "Python 3"
    },
    "language_info": {
      "name": "python"
    }
  },
  "cells": [
    {
      "cell_type": "markdown",
      "metadata": {
        "id": "view-in-github",
        "colab_type": "text"
      },
      "source": [
        "<a href=\"https://colab.research.google.com/github/sara-javed/Pytorch-week4/blob/main/04_pytorch_custom_datasets.ipynb\" target=\"_parent\"><img src=\"https://colab.research.google.com/assets/colab-badge.svg\" alt=\"Open In Colab\"/></a>"
      ]
    },
    {
      "cell_type": "markdown",
      "source": [
        "**04. PyTorch Custom Datasets Video Notebook**\n",
        "\n",
        "We've used some datasets with Pytorch before.\n",
        "\n",
        "But how do you get your own data into PyTorch?\n",
        "\n",
        "**Resources**\n",
        "* Book version of the course materials for 04: https://www.learnpytorch.io/04_pytorch_custom_datasets/\n",
        "*Ground truth version of notebook 04: https://github.com/mrdbourke/pytorch_deep_learning/blob/main/04_pytorch_custom_datasets.ipynb"
      ],
      "metadata": {
        "id": "CQQBeYaKrkhi"
      }
    },
    {
      "cell_type": "markdown",
      "source": [
        "**0. Importing PyTorch and setting up device-agnostic code**"
      ],
      "metadata": {
        "id": "bLSZl0DstfCR"
      }
    }
  ]
}