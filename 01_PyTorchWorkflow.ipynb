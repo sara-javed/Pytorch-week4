{
  "nbformat": 4,
  "nbformat_minor": 0,
  "metadata": {
    "colab": {
      "provenance": [],
      "gpuType": "T4",
      "authorship_tag": "ABX9TyOPSylcbsiTesFjNr+eIsI3",
      "include_colab_link": true
    },
    "kernelspec": {
      "name": "python3",
      "display_name": "Python 3"
    },
    "language_info": {
      "name": "python"
    },
    "accelerator": "GPU"
  },
  "cells": [
    {
      "cell_type": "markdown",
      "metadata": {
        "id": "view-in-github",
        "colab_type": "text"
      },
      "source": [
        "<a href=\"https://colab.research.google.com/github/sara-javed/Pytorch-week4/blob/main/01_PyTorchWorkflow.ipynb\" target=\"_parent\"><img src=\"https://colab.research.google.com/assets/colab-badge.svg\" alt=\"Open In Colab\"/></a>"
      ]
    },
    {
      "cell_type": "markdown",
      "source": [
        "**Pytorch Workflow**\n",
        "\n",
        "Let explore an example pytorch end-to-end workflow.\n",
        "\n",
        "Resourses:\n",
        "* Ground truth notebook - https://github.com/mrdbourke/pytorch-deep-learning/blob/main/01_pytorch_workflow.ipynb\n",
        "\n",
        "* Book version of notebook - https://www.learnpytorch.io/01_pytorch_workflow/\n",
        "\n",
        "* Ask a question - https://github.com/mrdbourke/pytorch_deep_learning/discussion"
      ],
      "metadata": {
        "id": "CT-EFGtDgJpX"
      }
    },
    {
      "cell_type": "code",
      "source": [
        "what_where_covering = {1: \"data (prepare and load)\",\n",
        "                       2: \" build model\",\n",
        "                       3: \"fitting the model to data (training)\",\n",
        "                       4: \"making prediction and evaluting a model (inference)\",\n",
        "                       5: \"saving and loading a model\",\n",
        "                       6: \"putting it all together\"\n",
        "                       }\n",
        "what_where_covering\n"
      ],
      "metadata": {
        "colab": {
          "base_uri": "https://localhost:8080/"
        },
        "id": "TwzvlYXziuil",
        "outputId": "80884e6f-e9e6-4d3a-b645-0a2a7e396bb6"
      },
      "execution_count": null,
      "outputs": [
        {
          "output_type": "execute_result",
          "data": {
            "text/plain": [
              "{1: 'data (prepare and load)',\n",
              " 2: ' build model',\n",
              " 3: 'fitting the model to data (training)',\n",
              " 4: 'making prediction and evaluting a model (inference)',\n",
              " 5: 'saving and loading a model',\n",
              " 6: 'putting it all together'}"
            ]
          },
          "metadata": {},
          "execution_count": 1
        }
      ]
    },
    {
      "cell_type": "code",
      "source": [
        "import torch\n",
        "from torch import nn  # nn contains all of Pytorch building blocks for neural networks\n",
        "import matplotlib.pyplot as plt\n",
        "\n",
        "#check Pytorch version\n",
        "torch.__version__\n"
      ],
      "metadata": {
        "colab": {
          "base_uri": "https://localhost:8080/",
          "height": 35
        },
        "id": "vczDIqDzlItA",
        "outputId": "41fa9901-bb15-40c8-d9bf-47385fc2ab9d"
      },
      "execution_count": null,
      "outputs": [
        {
          "output_type": "execute_result",
          "data": {
            "text/plain": [
              "'2.6.0+cu124'"
            ],
            "application/vnd.google.colaboratory.intrinsic+json": {
              "type": "string"
            }
          },
          "metadata": {},
          "execution_count": 2
        }
      ]
    },
    {
      "cell_type": "markdown",
      "source": [
        "## Data (preparing and loading)\n",
        "\n",
        "data can be almost anything... in machine learning\n",
        "\n",
        "* Excel speadsheet\n",
        "* Image of my kind\n",
        "* Video  (youTube has lots of data...)\n",
        "* Auido like songs or podcasts\n",
        "* DNA\n",
        "* Text\n",
        "\n",
        "machine learning is a game of two parts:\n",
        "1. Get data into a numerical representation.\n",
        "\n",
        "2. Build a model to learn patterns in that numerical representation.\n",
        "\n",
        "To showcase this, let's create some *known* data using the linear regression formula.\n",
        "\n",
        "we'll use a linear regression formula to make a straight line with known **parameter**\n",
        "\n",
        "\n"
      ],
      "metadata": {
        "id": "JYCHCM34m6yO"
      }
    },
    {
      "cell_type": "code",
      "source": [
        "# Create *known* parameter\n",
        "weight = 0.7\n",
        "bias = 0.3\n",
        "\n",
        "# Create\n",
        "start = 0\n",
        "end = 1\n",
        "step = 0.02\n",
        "X = torch.arange(start, end, step).unsqueeze(dim=1)\n",
        "y = weight * X + bias\n",
        "\n",
        "X[:10], y[:10]\n",
        "\n"
      ],
      "metadata": {
        "colab": {
          "base_uri": "https://localhost:8080/"
        },
        "id": "ZbSv6UFkoi3P",
        "outputId": "c9f7f96e-9525-4e96-e119-18644233a876"
      },
      "execution_count": null,
      "outputs": [
        {
          "output_type": "execute_result",
          "data": {
            "text/plain": [
              "(tensor([[0.0000],\n",
              "         [0.0200],\n",
              "         [0.0400],\n",
              "         [0.0600],\n",
              "         [0.0800],\n",
              "         [0.1000],\n",
              "         [0.1200],\n",
              "         [0.1400],\n",
              "         [0.1600],\n",
              "         [0.1800]]),\n",
              " tensor([[0.3000],\n",
              "         [0.3140],\n",
              "         [0.3280],\n",
              "         [0.3420],\n",
              "         [0.3560],\n",
              "         [0.3700],\n",
              "         [0.3840],\n",
              "         [0.3980],\n",
              "         [0.4120],\n",
              "         [0.4260]]))"
            ]
          },
          "metadata": {},
          "execution_count": 3
        }
      ]
    },
    {
      "cell_type": "code",
      "source": [
        "len(X)  , len(y)"
      ],
      "metadata": {
        "colab": {
          "base_uri": "https://localhost:8080/"
        },
        "id": "vWxw-R-YqJ9A",
        "outputId": "41d908fd-fcc6-4360-da37-401ab59ccd59"
      },
      "execution_count": null,
      "outputs": [
        {
          "output_type": "execute_result",
          "data": {
            "text/plain": [
              "(50, 50)"
            ]
          },
          "metadata": {},
          "execution_count": 5
        }
      ]
    },
    {
      "cell_type": "markdown",
      "source": [
        "## Splitting data into training and test sets (one of the most important concepts in machine learning in general)\n",
        "\n",
        "Let's create a training and test with our data.\n"
      ],
      "metadata": {
        "id": "kQ622YmsrWsG"
      }
    },
    {
      "cell_type": "code",
      "source": [
        "#Create a train/test split\n",
        "train_split = int(0.8 * len(X))\n",
        "X_train , y_train = X[:train_split], y[:train_split]\n",
        "X_test, y_test = X[train_split:], y[train_split:]\n",
        "\n",
        "len(X_train), len(y_train), len(X_test), len(y_test)"
      ],
      "metadata": {
        "colab": {
          "base_uri": "https://localhost:8080/"
        },
        "id": "fAvqBfX8sGT6",
        "outputId": "0d75bedc-cde9-456a-b303-565ddb9c404e"
      },
      "execution_count": null,
      "outputs": [
        {
          "output_type": "execute_result",
          "data": {
            "text/plain": [
              "(40, 40, 10, 10)"
            ]
          },
          "metadata": {},
          "execution_count": 7
        }
      ]
    },
    {
      "cell_type": "markdown",
      "source": [
        "How might we better visualize our data?\n",
        "\n",
        "This is where the data explorer's motto comes in!\n",
        "\n",
        "\"Visualize, Visualize, Visualize\""
      ],
      "metadata": {
        "id": "CBBiLfD9sv73"
      }
    },
    {
      "cell_type": "code",
      "source": [
        "def plot_predictions(train_data=X_train,\n",
        "                     train_labels=y_train,\n",
        "                     test_data=X_test,\n",
        "                     test_labels=y_test,\n",
        "                     predictions=None):\n",
        "  \"\"\"\n",
        "  Plots training data, test data and compares predictions.\n",
        "  \"\"\"\n",
        "  plt.figure(figsize=(10, 7))\n",
        "\n",
        "  #plot training data in blue\n",
        "  plt.scatter(train_data, train_labels, c=\"b\", s=4, label=\"Training data\")\n",
        "\n",
        "  #plot test data in green\n",
        "  plt.scatter(test_data, test_labels, c=\"g\", s=4, label=\"Testing data\")\n",
        "  if predictions is not None:\n",
        "    #plot predictions in red (predictions in test data)\n",
        "    plt.scatter(test_data, predictions, c=\"r\", s=4, label=\"Predictions\")\n",
        "\n",
        "    #show the legend\n",
        "    plt.legend(prop={\"size\": 14});"
      ],
      "metadata": {
        "id": "_2DdqUHktSXC"
      },
      "execution_count": null,
      "outputs": []
    },
    {
      "cell_type": "code",
      "source": [
        "plot_predictions();"
      ],
      "metadata": {
        "colab": {
          "base_uri": "https://localhost:8080/",
          "height": 599
        },
        "id": "ZnDWEJb4tY8w",
        "outputId": "614ded9f-1492-4d3e-9ba5-85fb4e6bba6e"
      },
      "execution_count": null,
      "outputs": [
        {
          "output_type": "display_data",
          "data": {
            "text/plain": [
              "<Figure size 1000x700 with 1 Axes>"
            ],
            "image/png": "[encoded data removed]"
          },
          "metadata": {}
        }
      ]
    },
    {
      "cell_type": "markdown",
      "source": [
        "## 2. Build model\n",
        "\n",
        "our first PyTorch model!\n",
        "\n",
        "This is very exciting... let's do it!\n",
        "\n",
        "Because we're going to be building classes throughout the course, I'd recommend getting familiar with OOP in python: https://realpython.com/python3-object-oriented-programming/\n",
        "\n",
        "What our model does:\n",
        "* start with the random values (weight, bias)\n",
        "\n",
        "* Look at training data and adjust the random values to better represent (or get closer to) the ideal values (the weight & bias values we used to create the data)\n",
        "\n",
        "How does it do so?\n",
        "\n",
        "Through two main algorithms:\n",
        "1. Gradient descent - https://youtu.be/IHZwWFHWa-w\n",
        "2. back propagation - https://youtu.be/IIg3gGewQ5U\n"
      ],
      "metadata": {
        "id": "A8Nl2mvnvdMV"
      }
    },
    {
      "cell_type": "code",
      "source": [
        "from typing_extensions import Required\n",
        "#create linear regression model class\n",
        "class LinearRegressionModel(nn.Module):\n",
        "    def __init__(self):\n",
        "        super().__init__()\n",
        "        self.weights = nn.parameter(torch.randn(1,\n",
        "                                                requires_grad = True,\n",
        "                                                dtype=torch.float))\n",
        "        self.bias = nn.parameter(torch.randn(1,\n",
        "                                             requires_grad=True,\n",
        "                                             dtype=torch.float))\n",
        "        #Forward method to define the computation in the model\n",
        "        def forward(self, x: torch.Tensor) -> torch.Tensor:\n",
        "            return self.weights * x + self.bias  #this is the linear regression formula\n",
        "\n",
        "\n",
        "\n"
      ],
      "metadata": {
        "id": "kMcpCEABv84C"
      },
      "execution_count": null,
      "outputs": []
    },
    {
      "cell_type": "markdown",
      "source": [
        "**PyTorch model building essentials**\n",
        "\n",
        "\n",
        "\n",
        "1. **nn.Module** - contains the larger building blocks (layers)\n",
        "\n",
        "2. **nn.Parameter** - contains the smaller parameters like weights and biases (put these together to make nn.Module(s))\n",
        "\n",
        "3. **forward()** - tells the larger blocks how to make calculations on inputs (tensors full of data) within nn.Module(s)\n",
        "\n",
        "4. **torch.optim**  - contains optimization methods on how to improve the parameters within nn.Parameter to better represent input data\n",
        "\n",
        "See more of these essential modules via the Pytorch cheatsheet - https://pytorch.org/tutorials/beginner/ptcheat.html"
      ],
      "metadata": {
        "id": "sVudTsC312xD"
      }
    },
    {
      "cell_type": "code",
      "source": [
        "torch.manual_seed(42)\n",
        "torch.randn(1)"
      ],
      "metadata": {
        "colab": {
          "base_uri": "https://localhost:8080/"
        },
        "id": "UVvHnR6ZuTt-",
        "outputId": "595091fe-7ca0-4074-8fef-ebbbd1d5f1ef"
      },
      "execution_count": null,
      "outputs": [
        {
          "output_type": "execute_result",
          "data": {
            "text/plain": [
              "tensor([0.3367])"
            ]
          },
          "metadata": {},
          "execution_count": 14
        }
      ]
    },
    {
      "cell_type": "markdown",
      "source": [
        "**Checking the content of the PyTorch Model**\n",
        "\n",
        "Now we've created a model, let's see What's inside...\n",
        "\n",
        "So we can check our model parameters or what's inside our model using **.parameters()**.\n"
      ],
      "metadata": {
        "id": "dhXSKDVb5zhE"
      }
    },
    {
      "cell_type": "code",
      "source": [
        "# Set manual seed since nn.Parameter are randomly initialized\n",
        "torch.manual_seed(42)\n",
        "\n",
        "# Create an instance of the model (this is a subclass of nn.Module that contains nn.Parameter(s))\n",
        "model_0 = LinearRegressionModel()\n",
        "\n",
        "# Check the nn.Parameter(s) within the nn.Module subclass we created\n",
        "list(model_0.parameters())"
      ],
      "metadata": {
        "colab": {
          "base_uri": "https://localhost:8080/"
        },
        "id": "ZT4Ka74EoaD0",
        "outputId": "5d9e82c9-b368-4492-ceaf-5c648f304122"
      },
      "execution_count": null,
      "outputs": [
        {
          "output_type": "stream",
          "name": "stdout",
          "text": [
            "[Parameter containing:\n",
            "tensor([[0.7645]], requires_grad=True), Parameter containing:\n",
            "tensor([0.8300], requires_grad=True)]\n"
          ]
        }
      ]
    },
    {
      "cell_type": "code",
      "source": [
        "# List named parameters\n",
        "model_0.state_dict()"
      ],
      "metadata": {
        "colab": {
          "base_uri": "https://localhost:8080/"
        },
        "id": "7M0O2njZtPTk",
        "outputId": "de2c21e9-6a3e-4dd2-9252-e8a356c85394"
      },
      "execution_count": null,
      "outputs": [
        {
          "output_type": "execute_result",
          "data": {
            "text/plain": [
              "OrderedDict([('linear_layer.weight', tensor([[0.7645]])),\n",
              "             ('linear_layer.bias', tensor([0.8300]))])"
            ]
          },
          "metadata": {},
          "execution_count": 8
        }
      ]
    },
    {
      "cell_type": "code",
      "source": [
        "# Assume this model already exists\n",
        "model_0 = LinearRegressionModel()\n",
        "\n",
        "# Get weight and bias from the model\n",
        "weight = model_0.linear_layer.weight\n",
        "bias = model_0.linear_layer.bias\n",
        "\n",
        "print(weight)\n",
        "print(bias)\n"
      ],
      "metadata": {
        "colab": {
          "base_uri": "https://localhost:8080/"
        },
        "id": "4UlauphqvpyC",
        "outputId": "ec275e3f-6b48-4eeb-ba2e-149e5b9e3c7a"
      },
      "execution_count": null,
      "outputs": [
        {
          "output_type": "stream",
          "name": "stdout",
          "text": [
            "Parameter containing:\n",
            "tensor([[-0.2191]], requires_grad=True)\n",
            "Parameter containing:\n",
            "tensor([0.2018], requires_grad=True)\n"
          ]
        }
      ]
    },
    {
      "cell_type": "markdown",
      "source": [
        "### Making Prediction using `torch.inference_mode()`\n",
        "\n",
        "To check our model's predictive power, let's see how well it predicts y_test based on X_test.\n",
        "\n",
        "when we pass data through our model, it's going to run it through the forward() method."
      ],
      "metadata": {
        "id": "4rXF8OIcwd_L"
      }
    },
    {
      "cell_type": "code",
      "source": [
        "import torch\n",
        "from torch import nn\n",
        "\n",
        "# Define the model\n",
        "class LinearRegressionModel(nn.Module):\n",
        "    def __init__(self):\n",
        "        super().__init__()\n",
        "        self.linear_layer = nn.Linear(in_features=1, out_features=1)\n",
        "\n",
        "    def forward(self, x):\n",
        "        return self.linear_layer(x)\n",
        "\n",
        "# Create model\n",
        "model_0 = LinearRegressionModel()\n",
        "\n",
        "# Sample input test data (X_test): shape must match in_features=1\n",
        "X_test = torch.tensor([[1.0], [2.0], [3.0]])\n",
        "\n",
        "# Inference mode (no gradient calculation)\n",
        "with torch.inference_mode():\n",
        "    y_preds = model_0(X_test)\n",
        "\n",
        "print(\"Predictions:\", y_preds)\n"
      ],
      "metadata": {
        "colab": {
          "base_uri": "https://localhost:8080/"
        },
        "id": "qfUJa72axOSL",
        "outputId": "00d974b0-8584-43ee-8fe6-fd10ce2704a8"
      },
      "execution_count": null,
      "outputs": [
        {
          "output_type": "stream",
          "name": "stdout",
          "text": [
            "Predictions: tensor([[ 0.1004],\n",
            "        [-0.3864],\n",
            "        [-0.8733]])\n"
          ]
        }
      ]
    },
    {
      "cell_type": "code",
      "source": [
        "# Check the predictions\n",
        "print(f\"Number of testing samples: {len(X_test)}\")\n",
        "print(f\"Number of predictions made: {len(y_preds)}\")\n",
        "print(f\"Predicted values:\\n{y_preds}\")"
      ],
      "metadata": {
        "colab": {
          "base_uri": "https://localhost:8080/"
        },
        "id": "dvdGEjTWytY1",
        "outputId": "89e30897-a879-429c-b09e-4d9c7b664171"
      },
      "execution_count": null,
      "outputs": [
        {
          "output_type": "stream",
          "name": "stdout",
          "text": [
            "Number of testing samples: 3\n",
            "Number of predictions made: 3\n",
            "Predicted values:\n",
            "tensor([[ 0.1004],\n",
            "        [-0.3864],\n",
            "        [-0.8733]])\n"
          ]
        }
      ]
    },
    {
      "cell_type": "code",
      "source": [
        "# Step 1: Import libraries\n",
        "import torch\n",
        "from torch import nn\n",
        "import matplotlib.pyplot as plt\n",
        "from sklearn.model_selection import train_test_split\n",
        "\n",
        "# Step 2: Create sample data\n",
        "X = torch.arange(0, 100, dtype=torch.float32).reshape(-1, 1)\n",
        "Y = X + 10  # Simple target: y = x + 10\n",
        "\n",
        "# Step 3: Split into train and test\n",
        "X_train, X_test, Y_train, Y_test = train_test_split(X, Y, test_size=0.2, random_state=42)\n",
        "\n",
        "# Step 4: Define the Linear Regression Model\n",
        "class LinearRegressionModel(nn.Module):\n",
        "    def __init__(self):\n",
        "        super().__init__()\n",
        "        self.linear_layer = nn.Linear(in_features=1, out_features=1)\n",
        "\n",
        "    def forward(self, x):\n",
        "        return self.linear_layer(x)\n",
        "\n",
        "# Step 5: Create model instance\n",
        "model_0 = LinearRegressionModel()\n",
        "\n",
        "# Step 6: Define loss and optimizer\n",
        "loss_fn = nn.L1Loss()  # MAE loss\n",
        "optimizer = torch.optim.SGD(params=model_0.parameters(), lr=0.01)\n",
        "\n",
        "# Step 7: Train the model\n",
        "epochs = 100\n",
        "for epoch in range(epochs):\n",
        "    model_0.train()\n",
        "    y_pred = model_0(X_train)\n",
        "    loss = loss_fn(y_pred, Y_train)\n",
        "\n",
        "    optimizer.zero_grad()\n",
        "    loss.backward()\n",
        "    optimizer.step()\n",
        "\n",
        "# Step 8: Predict with test data\n",
        "with torch.inference_mode():\n",
        "    y_preds = model_0(X_test)\n",
        "\n",
        "# Step 9: Define the plotting function\n",
        "def plot_predictions(train_data, train_labels, test_data, test_labels, predictions=None):\n",
        "    plt.figure(figsize=(10, 6))\n",
        "\n",
        "    plt.scatter(train_data, train_labels, c=\"blue\", label=\"Training data\")\n",
        "    plt.scatter(test_data, test_labels, c=\"green\", label=\"Testing data\")\n",
        "\n",
        "    if predictions is not None:\n",
        "        plt.scatter(test_data, predictions, c=\"red\", label=\"Predictions\")\n",
        "\n",
        "    plt.legend()\n",
        "    plt.title(\"Model Predictions vs Actual Data\")\n",
        "    plt.xlabel(\"X\")\n",
        "    plt.ylabel(\"Y\")\n",
        "    plt.grid(True)\n",
        "    plt.show()\n",
        "\n",
        "# Step 10: Call the function\n",
        "plot_predictions(X_train, Y_train, X_test, Y_test, y_preds)\n"
      ],
      "metadata": {
        "colab": {
          "base_uri": "https://localhost:8080/",
          "height": 564
        },
        "id": "l1e3Em1dzVqL",
        "outputId": "1fc8acee-12b9-44d8-9d85-b7faa8523194"
      },
      "execution_count": null,
      "outputs": [
        {
          "output_type": "display_data",
          "data": {
            "text/plain": [
              "<Figure size 1000x600 with 1 Axes>"
            ],
            "image/png": "[encoded data removed]"
          },
          "metadata": {}
        }
      ]
    },
    {
      "cell_type": "markdown",
      "source": [
        "**Model Training**"
      ],
      "metadata": {
        "id": "dt-QW-2J1Vzy"
      }
    },
    {
      "cell_type": "markdown",
      "source": [
        "The whole idea of model training is fro a model to move from some unknown parameters to *known* or ideal parameters\n",
        "\n",
        "Or in other words from a poor representation of the data to a better representation of the data.\n",
        "\n",
        "one way to measure how poor or how wrong your models predictions are is to use a loss function.\n",
        "\n",
        "* Note: Loss function may also called cost function or criterion in different areas. For our case, we're going to refer to it as a loss function.\n",
        "\n",
        "Things we need to train:\n",
        "\n",
        "* **Loss Function:** A function to measure how wrong your model's predictions are to idea outputs, lower is better.\n",
        "\n",
        "* **Optimizer:** Takes into account the loss of a model and adjust the model's parameters(e.g weight & bias)\n",
        "\n",
        "And especially for PYtorch, we need\n",
        "1. A training loop\n",
        "2. A testing loop\n"
      ],
      "metadata": {
        "id": "utiLISix1ae5"
      }
    },
    {
      "cell_type": "code",
      "source": [
        "list (model_0.parameters())"
      ],
      "metadata": {
        "colab": {
          "base_uri": "https://localhost:8080/"
        },
        "id": "AMGqHKCF3Tmg",
        "outputId": "f5d8f688-b9f3-4c8b-dbfb-26dc10a7ed2c"
      },
      "execution_count": null,
      "outputs": [
        {
          "output_type": "execute_result",
          "data": {
            "text/plain": [
              "[Parameter containing:\n",
              " tensor([[1.0218]], requires_grad=True),\n",
              " Parameter containing:\n",
              " tensor([-0.5444], requires_grad=True)]"
            ]
          },
          "metadata": {},
          "execution_count": 33
        }
      ]
    },
    {
      "cell_type": "code",
      "source": [
        "model_0.state_dict()"
      ],
      "metadata": {
        "colab": {
          "base_uri": "https://localhost:8080/"
        },
        "id": "igD1xpHX33EP",
        "outputId": "9ee140e1-8e2c-4c78-ff40-f5ed57eef9c9"
      },
      "execution_count": null,
      "outputs": [
        {
          "output_type": "execute_result",
          "data": {
            "text/plain": [
              "OrderedDict([('linear_layer.weight', tensor([[1.0218]])),\n",
              "             ('linear_layer.bias', tensor([-0.5444]))])"
            ]
          },
          "metadata": {},
          "execution_count": 34
        }
      ]
    },
    {
      "cell_type": "code",
      "source": [
        "#setuo a loss function\n",
        "loss_fn = nn.L1Loss()\n",
        "\n",
        "#setup on optimizer(stochastic gradient descent)\n",
        "optimizer = torch.optim.SGD(model_0.parameters(),\n",
        "                           lr=0.01 )# lr = learning rate = possibly the most important hyperparameter ypu can set"
      ],
      "metadata": {
        "id": "yBXQbJS14rw6"
      },
      "execution_count": null,
      "outputs": []
    },
    {
      "cell_type": "markdown",
      "source": [
        "**Q:**  Which loss function and optimizer should I use?\n",
        "\n",
        "**A:** This will be problem specific. But with experience,you'll get an idea of what works and what doesn't with your problem set."
      ],
      "metadata": {
        "id": "gm0VR3vV6QRx"
      }
    },
    {
      "cell_type": "markdown",
      "source": [
        "**Building a training loop in PyTorch**\n",
        "\n",
        "A couple of thing we need in a training loop:\n",
        "\n",
        "0. Loop through the data\n",
        "1. Forward pass (this involves data moving through our model's `forward()`\n",
        "functions) to make prediction of data  - also called forward propagation\n",
        "2. Calculate the loss (compare forward pass prediction to ground truth labels)\n",
        "3. Optimizer zero grag\n",
        "4. Loss backward - move backwards through the network to calculate the gradients of each of the parameters of the loss **(backpropagation)**\n",
        "5. Optimizer step - use the optimizer to adjust our model's parameters to try ande improve the loss (gradient descent)\n"
      ],
      "metadata": {
        "id": "QKFjNaji7Qei"
      }
    },
    {
      "cell_type": "code",
      "source": [
        "with torch.no_grad():\n",
        "  list(model_0.parameters())\n"
      ],
      "metadata": {
        "id": "2OEbAQm7-ltQ"
      },
      "execution_count": null,
      "outputs": []
    },
    {
      "cell_type": "code",
      "source": [
        "\n",
        "model_0.parameters()"
      ],
      "metadata": {
        "id": "HxQ8eu1891LY",
        "colab": {
          "base_uri": "https://localhost:8080/"
        },
        "outputId": "95ba3b9c-b140-43db-a96c-f4a972fdcc0d"
      },
      "execution_count": null,
      "outputs": [
        {
          "output_type": "execute_result",
          "data": {
            "text/plain": [
              "<generator object Module.parameters at 0x7a5d6710cd60>"
            ]
          },
          "metadata": {},
          "execution_count": 37
        }
      ]
    },
    {
      "cell_type": "code",
      "source": [
        "# Step 1: Import libraries\n",
        "import torch\n",
        "from torch import nn\n",
        "import matplotlib.pyplot as plt\n",
        "from sklearn.model_selection import train_test_split\n",
        "\n",
        "# Step 2: Generate sample data\n",
        "X = torch.arange(0, 100, dtype=torch.float32).reshape(-1, 1)\n",
        "Y = X + 10  # Simple relation: Y = X + 10\n",
        "\n",
        "# Step 3: Split data into training and testing\n",
        "X_train, X_test, Y_train, Y_test = train_test_split(X, Y, test_size=0.2, random_state=42)\n",
        "\n",
        "# Step 4: Define Linear Regression Model\n",
        "class LinearRegressionModel(nn.Module):\n",
        "    def __init__(self):\n",
        "        super().__init__()\n",
        "        self.linear_layer = nn.Linear(in_features=1, out_features=1)\n",
        "\n",
        "    def forward(self, x):\n",
        "        return self.linear_layer(x)\n",
        "\n",
        "# Step 5: Initialize the model\n",
        "model_0 = LinearRegressionModel()\n",
        "\n",
        "# Step 6: Define loss function and optimizer\n",
        "loss_fn = nn.L1Loss()  # Mean Absolute Error\n",
        "optimizer = torch.optim.SGD(params=model_0.parameters(), lr=0.01)\n",
        "\n",
        "# Step 7: Train the model\n",
        "epochs = 100\n",
        "for epoch in range(epochs):\n",
        "    model_0.train()\n",
        "    y_pred = model_0(X_train)\n",
        "    loss = loss_fn(y_pred, Y_train)\n",
        "\n",
        "    optimizer.zero_grad()\n",
        "    loss.backward()\n",
        "    optimizer.step()\n",
        "\n",
        "# Step 8: Make predictions (no_grad or inference_mode to avoid tracking gradients)\n",
        "with torch.inference_mode():\n",
        "    y_preds = model_0(X_test)\n",
        "\n",
        "# Step 9: Define the plot_predictions function\n",
        "def plot_predictions(train_data, train_labels, test_data, test_labels, predictions=None):\n",
        "    plt.figure(figsize=(10, 6))\n",
        "\n",
        "    plt.scatter(train_data, train_labels, c=\"blue\", label=\"Training data\")\n",
        "    plt.scatter(test_data, test_labels, c=\"green\", label=\"Testing data\")\n",
        "\n",
        "    if predictions is not None:\n",
        "        plt.scatter(test_data, predictions, c=\"red\", label=\"Predictions\")\n",
        "\n",
        "    plt.legend()\n",
        "    plt.title(\"Model Predictions vs Actual Data\")\n",
        "    plt.xlabel(\"X\")\n",
        "    plt.ylabel(\"Y\")\n",
        "    plt.grid(True)\n",
        "    plt.show()\n",
        "\n",
        "# Step 10: Call the plotting function (no NameError)\n",
        "plot_predictions(train_data=X_train,\n",
        "                 train_labels=Y_train,\n",
        "                 test_data=X_test,\n",
        "                 test_labels=Y_test,\n",
        "                 predictions=y_preds)\n"
      ],
      "metadata": {
        "id": "TfqSldqS9dsg",
        "colab": {
          "base_uri": "https://localhost:8080/",
          "height": 564
        },
        "outputId": "b28e18fb-14f7-48ca-f226-24130c4d81de"
      },
      "execution_count": 57,
      "outputs": [
        {
          "output_type": "display_data",
          "data": {
            "text/plain": [
              "<Figure size 1000x600 with 1 Axes>"
            ],
            "image/png": "[encoded data removed]"
          },
          "metadata": {}
        }
      ]
    },
    {
      "cell_type": "code",
      "source": [
        "with torch.inference_mode():\n",
        "  y_preds_new = model_0(X_test)"
      ],
      "metadata": {
        "id": "QQH4T_uGCMLp"
      },
      "execution_count": null,
      "outputs": []
    },
    {
      "cell_type": "code",
      "source": [
        "model_0.state_dict()"
      ],
      "metadata": {
        "colab": {
          "base_uri": "https://localhost:8080/"
        },
        "id": "0yeJn7TBBekm",
        "outputId": "c5701b9a-7a83-4569-96fe-4870fdde9b6d"
      },
      "execution_count": null,
      "outputs": [
        {
          "output_type": "execute_result",
          "data": {
            "text/plain": [
              "OrderedDict([('linear_layer.weight', tensor([[1.5293]])),\n",
              "             ('linear_layer.bias', tensor([-0.5344]))])"
            ]
          },
          "metadata": {},
          "execution_count": 43
        }
      ]
    },
    {
      "cell_type": "code",
      "source": [
        "weight, bias"
      ],
      "metadata": {
        "colab": {
          "base_uri": "https://localhost:8080/"
        },
        "id": "XlcALacOBk9_",
        "outputId": "0c94d622-95dd-476a-d23e-b0a21d909034"
      },
      "execution_count": null,
      "outputs": [
        {
          "output_type": "execute_result",
          "data": {
            "text/plain": [
              "(Parameter containing:\n",
              " tensor([[-0.2191]], requires_grad=True),\n",
              " Parameter containing:\n",
              " tensor([0.2018], requires_grad=True))"
            ]
          },
          "metadata": {},
          "execution_count": 44
        }
      ]
    },
    {
      "cell_type": "code",
      "source": [
        "# Step 1: Import libraries\n",
        "import torch\n",
        "from torch import nn\n",
        "import matplotlib.pyplot as plt\n",
        "from sklearn.model_selection import train_test_split\n",
        "\n",
        "# Step 2: Generate sample data\n",
        "X = torch.arange(0, 100, dtype=torch.float32).reshape(-1, 1)\n",
        "Y = X + 10  # Simple relation: Y = X + 10\n",
        "\n",
        "# Step 3: Split data into training and testing\n",
        "X_train, X_test, Y_train, Y_test = train_test_split(X, Y, test_size=0.2, random_state=42)\n",
        "\n",
        "# Step 4: Define Linear Regression Model\n",
        "class LinearRegressionModel(nn.Module):\n",
        "    def __init__(self):\n",
        "        super().__init__()\n",
        "        self.linear_layer = nn.Linear(in_features=1, out_features=1)\n",
        "\n",
        "    def forward(self, x):\n",
        "        return self.linear_layer(x)\n",
        "\n",
        "# Step 5: Initialize the model\n",
        "model_0 = LinearRegressionModel()\n",
        "\n",
        "# Step 6: Define loss function and optimizer\n",
        "loss_fn = nn.L1Loss()  # Mean Absolute Error\n",
        "optimizer = torch.optim.SGD(params=model_0.parameters(), lr=0.01)\n",
        "\n",
        "# Step 7: Train the model\n",
        "epochs = 100\n",
        "for epoch in range(epochs):\n",
        "    model_0.train()\n",
        "    y_pred = model_0(X_train)\n",
        "    loss = loss_fn(y_pred, Y_train)\n",
        "\n",
        "    optimizer.zero_grad()\n",
        "    loss.backward()\n",
        "    optimizer.step()\n",
        "\n",
        "# Step 8: Make predictions (no_grad or inference_mode to avoid tracking gradients)\n",
        "with torch.inference_mode():\n",
        "    y_preds = model_0(X_test)\n",
        "\n",
        "# Step 9: Define the plot_predictions function\n",
        "def plot_predictions(train_data, train_labels, test_data, test_labels, predictions=None):\n",
        "    plt.figure(figsize=(10, 6))\n",
        "\n",
        "    plt.scatter(train_data, train_labels, c=\"blue\", label=\"Training data\")\n",
        "    plt.scatter(test_data, test_labels, c=\"green\", label=\"Testing data\")\n",
        "\n",
        "    if predictions is not None:\n",
        "        plt.scatter(test_data, predictions, c=\"red\", label=\"Predictions\")\n",
        "\n",
        "    plt.legend()\n",
        "    plt.title(\"Model Predictions vs Actual Data\")\n",
        "    plt.xlabel(\"X\")\n",
        "    plt.ylabel(\"Y\")\n",
        "    plt.grid(True)\n",
        "    plt.show()\n",
        "\n",
        "# Step 10: Call the plotting function (no NameError)\n",
        "plot_predictions(train_data=X_train,\n",
        "                 train_labels=Y_train,\n",
        "                 test_data=X_test,\n",
        "                 test_labels=Y_test,\n",
        "                 predictions=y_preds)\n"
      ],
      "metadata": {
        "colab": {
          "base_uri": "https://localhost:8080/",
          "height": 564
        },
        "id": "_B5nn0OECiIc",
        "outputId": "78a88569-73d0-4c90-b8f1-92af45f0f58c"
      },
      "execution_count": null,
      "outputs": [
        {
          "output_type": "display_data",
          "data": {
            "text/plain": [
              "<Figure size 1000x600 with 1 Axes>"
            ],
            "image/png": "[encoded data removed]"
          },
          "metadata": {}
        }
      ]
    },
    {
      "cell_type": "code",
      "source": [
        "plot_predictions(train_data=X_train,\n",
        "                 train_labels=Y_train,\n",
        "                 test_data=X_test,\n",
        "                 test_labels=Y_test,\n",
        "                 predictions=y_preds_new)\n"
      ],
      "metadata": {
        "colab": {
          "base_uri": "https://localhost:8080/",
          "height": 564
        },
        "id": "nWE4GVLDDe9R",
        "outputId": "dfcc0622-4a3d-432b-d028-90babe02b1c2"
      },
      "execution_count": null,
      "outputs": [
        {
          "output_type": "display_data",
          "data": {
            "text/plain": [
              "<Figure size 1000x600 with 1 Axes>"
            ],
            "image/png": "[encoded data removed]"
          },
          "metadata": {}
        }
      ]
    },
    {
      "cell_type": "code",
      "source": [
        "import torch\n",
        "\n",
        "torch.manual_seed(42)\n",
        "\n",
        "# Number of epochs\n",
        "epochs = 200  # epochs is the number of times our model will loop over training data\n",
        "\n",
        "# Lists to track values during training\n",
        "epochs_counts = []\n",
        "train_loss_values = []\n",
        "test_loss_values = []\n",
        "\n",
        "# 0. Loop over the data\n",
        "for epoch in range(epochs):\n",
        "\n",
        "    # 1. Training mode\n",
        "    model_0.train()\n",
        "\n",
        "    # 2. Forward pass\n",
        "    y_pred = model_0(X_train)\n",
        "\n",
        "    # 3. Compute training loss\n",
        "    loss = loss_fn(y_pred, Y_train)  # FIXED: Y_train (not y_train)\n",
        "\n",
        "    # 4. Zero gradients\n",
        "    optimizer.zero_grad()\n",
        "\n",
        "    # 5. Backpropagation\n",
        "    loss.backward()\n",
        "\n",
        "    # 6. Step optimizer\n",
        "    optimizer.step()\n",
        "\n",
        "    # 7. Evaluation mode (no gradient tracking)\n",
        "    model_0.eval()\n",
        "    with torch.inference_mode():\n",
        "        test_pred = model_0(X_test)\n",
        "\n",
        "        # 8. Compute test loss\n",
        "        test_loss = loss_fn(test_pred, Y_test)\n",
        "\n",
        "    # 9. Logging every 10 epochs\n",
        "    if epoch % 10 == 0:\n",
        "        epochs_counts.append(epoch)\n",
        "        train_loss_values.append(loss.item())\n",
        "        test_loss_values.append(test_loss.item())\n",
        "\n",
        "        print(f\"Epoch: {epoch} | Train Loss: {loss.item():.4f} | Test Loss: {test_loss.item():.4f}\")\n",
        "        print(\"Model Parameters:\")\n",
        "        print(model_0.state_dict())\n"
      ],
      "metadata": {
        "colab": {
          "base_uri": "https://localhost:8080/"
        },
        "id": "-9Y6shibEt2W",
        "outputId": "fab3eecf-4845-4a77-9bb9-c58a9ef25172"
      },
      "execution_count": null,
      "outputs": [
        {
          "output_type": "stream",
          "name": "stdout",
          "text": [
            "Epoch: 0 | Train Loss: 12.6494 | Test Loss: 13.1541\n",
            "Model Parameters:\n",
            "OrderedDict([('linear_layer.weight', tensor([[1.4479]])), ('linear_layer.bias', tensor([0.3829]))])\n",
            "Epoch: 10 | Train Loss: 4.1245 | Test Loss: 6.9826\n",
            "Model Parameters:\n",
            "OrderedDict([('linear_layer.weight', tensor([[1.2787]])), ('linear_layer.bias', tensor([0.3974]))])\n",
            "Epoch: 20 | Train Loss: 6.8774 | Test Loss: 17.7558\n",
            "Model Parameters:\n",
            "OrderedDict([('linear_layer.weight', tensor([[1.5609]])), ('linear_layer.bias', tensor([0.4202]))])\n",
            "Epoch: 30 | Train Loss: 9.6888 | Test Loss: 15.4775\n",
            "Model Parameters:\n",
            "OrderedDict([('linear_layer.weight', tensor([[1.5052]])), ('linear_layer.bias', tensor([0.4382]))])\n",
            "Epoch: 40 | Train Loss: 15.5722 | Test Loss: 10.9228\n",
            "Model Parameters:\n",
            "OrderedDict([('linear_layer.weight', tensor([[1.3889]])), ('linear_layer.bias', tensor([0.4544]))])\n",
            "Epoch: 50 | Train Loss: 5.3519 | Test Loss: 19.0031\n",
            "Model Parameters:\n",
            "OrderedDict([('linear_layer.weight', tensor([[1.5899]])), ('linear_layer.bias', tensor([0.4739]))])\n",
            "Epoch: 60 | Train Loss: 7.7321 | Test Loss: 17.0340\n",
            "Model Parameters:\n",
            "OrderedDict([('linear_layer.weight', tensor([[1.5427]])), ('linear_layer.bias', tensor([0.4917]))])\n",
            "Epoch: 70 | Train Loss: 12.6752 | Test Loss: 13.0971\n",
            "Model Parameters:\n",
            "OrderedDict([('linear_layer.weight', tensor([[1.4449]])), ('linear_layer.bias', tensor([0.5094]))])\n",
            "Epoch: 80 | Train Loss: 4.1948 | Test Loss: 10.5720\n",
            "Model Parameters:\n",
            "OrderedDict([('linear_layer.weight', tensor([[1.3789]])), ('linear_layer.bias', tensor([0.5249]))])\n",
            "Epoch: 90 | Train Loss: 5.4715 | Test Loss: 18.8884\n",
            "Model Parameters:\n",
            "OrderedDict([('linear_layer.weight', tensor([[1.5862]])), ('linear_layer.bias', tensor([0.5447]))])\n",
            "Epoch: 100 | Train Loss: 6.6727 | Test Loss: 17.8929\n",
            "Model Parameters:\n",
            "OrderedDict([('linear_layer.weight', tensor([[1.5622]])), ('linear_layer.bias', tensor([0.5614]))])\n",
            "Epoch: 110 | Train Loss: 9.6244 | Test Loss: 15.4876\n",
            "Model Parameters:\n",
            "OrderedDict([('linear_layer.weight', tensor([[1.5037]])), ('linear_layer.bias', tensor([0.5787]))])\n",
            "Epoch: 120 | Train Loss: 14.4042 | Test Loss: 11.7464\n",
            "Model Parameters:\n",
            "OrderedDict([('linear_layer.weight', tensor([[1.4092]])), ('linear_layer.bias', tensor([0.5947]))])\n",
            "Epoch: 130 | Train Loss: 5.2888 | Test Loss: 19.0238\n",
            "Model Parameters:\n",
            "OrderedDict([('linear_layer.weight', tensor([[1.5884]])), ('linear_layer.bias', tensor([0.6132]))])\n",
            "Epoch: 140 | Train Loss: 6.6933 | Test Loss: 17.8605\n",
            "Model Parameters:\n",
            "OrderedDict([('linear_layer.weight', tensor([[1.5604]])), ('linear_layer.bias', tensor([0.6297]))])\n",
            "Epoch: 150 | Train Loss: 8.3138 | Test Loss: 16.5190\n",
            "Model Parameters:\n",
            "OrderedDict([('linear_layer.weight', tensor([[1.5282]])), ('linear_layer.bias', tensor([0.6459]))])\n",
            "Epoch: 160 | Train Loss: 10.1755 | Test Loss: 15.0279\n",
            "Model Parameters:\n",
            "OrderedDict([('linear_layer.weight', tensor([[1.4912]])), ('linear_layer.bias', tensor([0.6619]))])\n",
            "Epoch: 170 | Train Loss: 12.2913 | Test Loss: 13.3516\n",
            "Model Parameters:\n",
            "OrderedDict([('linear_layer.weight', tensor([[1.4492]])), ('linear_layer.bias', tensor([0.6777]))])\n",
            "Epoch: 180 | Train Loss: 4.2332 | Test Loss: 12.1269\n",
            "Model Parameters:\n",
            "OrderedDict([('linear_layer.weight', tensor([[1.4182]])), ('linear_layer.bias', tensor([0.6932]))])\n",
            "Epoch: 190 | Train Loss: 4.7336 | Test Loss: 19.4600\n",
            "Model Parameters:\n",
            "OrderedDict([('linear_layer.weight', tensor([[1.5974]])), ('linear_layer.bias', tensor([0.7117]))])\n"
          ]
        }
      ]
    }
  ]
}