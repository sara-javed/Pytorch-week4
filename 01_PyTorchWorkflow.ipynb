{
  "nbformat": 4,
  "nbformat_minor": 0,
  "metadata": {
    "colab": {
      "provenance": [],
      "gpuType": "T4",
      "authorship_tag": "ABX9TyMQrFxR1/DNUpUZE5YKbhGH",
      "include_colab_link": true
    },
    "kernelspec": {
      "name": "python3",
      "display_name": "Python 3"
    },
    "language_info": {
      "name": "python"
    },
    "accelerator": "GPU"
  },
  "cells": [
    {
      "cell_type": "markdown",
      "metadata": {
        "id": "view-in-github",
        "colab_type": "text"
      },
      "source": [
        "<a href=\"https://colab.research.google.com/github/sara-javed/Pytorch-week4/blob/main/01_PyTorchWorkflow.ipynb\" target=\"_parent\"><img src=\"https://colab.research.google.com/assets/colab-badge.svg\" alt=\"Open In Colab\"/></a>"
      ]
    },
    {
      "cell_type": "markdown",
      "source": [
        "**Pytorch Workflow**\n",
        "\n",
        "Let explore an example pytorch end-to-end workflow.\n",
        "\n",
        "Resourses:\n",
        "* Ground truth notebook - https://github.com/mrdbourke/pytorch-deep-learning/blob/main/01_pytorch_workflow.ipynb\n",
        "\n",
        "* Book version of notebook - https://www.learnpytorch.io/01_pytorch_workflow/\n",
        "\n",
        "* Ask a question - https://github.com/mrdbourke/pytorch_deep_learning/discussion"
      ],
      "metadata": {
        "id": "CT-EFGtDgJpX"
      }
    },
    {
      "cell_type": "code",
      "source": [
        "what_where_covering = {1: \"data (prepare and load)\",\n",
        "                       2: \" build model\",\n",
        "                       3: \"fitting the model to data (training)\",\n",
        "                       4: \"making prediction and evaluting a model (inference)\",\n",
        "                       5: \"saving and loading a model\",\n",
        "                       6: \"putting it all together\"\n",
        "                       }\n",
        "what_where_covering\n"
      ],
      "metadata": {
        "colab": {
          "base_uri": "https://localhost:8080/"
        },
        "id": "TwzvlYXziuil",
        "outputId": "80884e6f-e9e6-4d3a-b645-0a2a7e396bb6"
      },
      "execution_count": 1,
      "outputs": [
        {
          "output_type": "execute_result",
          "data": {
            "text/plain": [
              "{1: 'data (prepare and load)',\n",
              " 2: ' build model',\n",
              " 3: 'fitting the model to data (training)',\n",
              " 4: 'making prediction and evaluting a model (inference)',\n",
              " 5: 'saving and loading a model',\n",
              " 6: 'putting it all together'}"
            ]
          },
          "metadata": {},
          "execution_count": 1
        }
      ]
    },
    {
      "cell_type": "code",
      "source": [
        "import torch\n",
        "from torch import nn  # nn contains all of Pytorch building blocks for neural networks\n",
        "import matplotlib.pyplot as plt\n",
        "\n",
        "#check Pytorch version\n",
        "torch.__version__\n"
      ],
      "metadata": {
        "colab": {
          "base_uri": "https://localhost:8080/",
          "height": 35
        },
        "id": "vczDIqDzlItA",
        "outputId": "41fa9901-bb15-40c8-d9bf-47385fc2ab9d"
      },
      "execution_count": 2,
      "outputs": [
        {
          "output_type": "execute_result",
          "data": {
            "text/plain": [
              "'2.6.0+cu124'"
            ],
            "application/vnd.google.colaboratory.intrinsic+json": {
              "type": "string"
            }
          },
          "metadata": {},
          "execution_count": 2
        }
      ]
    },
    {
      "cell_type": "markdown",
      "source": [
        "## Data (preparing and loading)\n",
        "\n",
        "data can be almost anything... in machine learning\n",
        "\n",
        "* Excel speadsheet\n",
        "* Image of my kind\n",
        "* Video  (youTube has lots of data...)\n",
        "* Auido like songs or podcasts\n",
        "* DNA\n",
        "* Text\n",
        "\n",
        "machine learning is a game of two parts:\n",
        "1. Get data into a numerical representation.\n",
        "\n",
        "2. Build a model to learn patterns in that numerical representation.\n",
        "\n",
        "To showcase this, let's create some *known* data using the linear regression formula.\n",
        "\n",
        "we'll use a linear regression formula to make a straight line with known **parameter**\n",
        "\n",
        "\n"
      ],
      "metadata": {
        "id": "JYCHCM34m6yO"
      }
    },
    {
      "cell_type": "code",
      "source": [
        "# Create *known* parameter\n",
        "weight = 0.7\n",
        "bias = 0.3\n",
        "\n",
        "# Create\n",
        "start = 0\n",
        "end = 1\n",
        "step = 0.02\n",
        "X = torch.arange(start, end, step).unsqueeze(dim=1)\n",
        "y = weight * X + bias\n",
        "\n",
        "X[:10], y[:10]\n",
        "\n"
      ],
      "metadata": {
        "colab": {
          "base_uri": "https://localhost:8080/"
        },
        "id": "ZbSv6UFkoi3P",
        "outputId": "c9f7f96e-9525-4e96-e119-18644233a876"
      },
      "execution_count": 3,
      "outputs": [
        {
          "output_type": "execute_result",
          "data": {
            "text/plain": [
              "(tensor([[0.0000],\n",
              "         [0.0200],\n",
              "         [0.0400],\n",
              "         [0.0600],\n",
              "         [0.0800],\n",
              "         [0.1000],\n",
              "         [0.1200],\n",
              "         [0.1400],\n",
              "         [0.1600],\n",
              "         [0.1800]]),\n",
              " tensor([[0.3000],\n",
              "         [0.3140],\n",
              "         [0.3280],\n",
              "         [0.3420],\n",
              "         [0.3560],\n",
              "         [0.3700],\n",
              "         [0.3840],\n",
              "         [0.3980],\n",
              "         [0.4120],\n",
              "         [0.4260]]))"
            ]
          },
          "metadata": {},
          "execution_count": 3
        }
      ]
    },
    {
      "cell_type": "code",
      "source": [
        "len(X)  , len(y)"
      ],
      "metadata": {
        "colab": {
          "base_uri": "https://localhost:8080/"
        },
        "id": "vWxw-R-YqJ9A",
        "outputId": "41d908fd-fcc6-4360-da37-401ab59ccd59"
      },
      "execution_count": 5,
      "outputs": [
        {
          "output_type": "execute_result",
          "data": {
            "text/plain": [
              "(50, 50)"
            ]
          },
          "metadata": {},
          "execution_count": 5
        }
      ]
    },
    {
      "cell_type": "markdown",
      "source": [
        "## Splitting data into training and test sets (one of the most important concepts in machine learning in general)\n",
        "\n",
        "Let's create a training and test with our data.\n"
      ],
      "metadata": {
        "id": "kQ622YmsrWsG"
      }
    },
    {
      "cell_type": "code",
      "source": [
        "#Create a train/test split\n",
        "train_split = int(0.8 * len(X))\n",
        "X_train , y_train = X[:train_split], y[:train_split]\n",
        "X_test, y_test = X[train_split:], y[train_split:]\n",
        "\n",
        "len(X_train), len(y_train), len(X_test), len(y_test)"
      ],
      "metadata": {
        "colab": {
          "base_uri": "https://localhost:8080/"
        },
        "id": "fAvqBfX8sGT6",
        "outputId": "0d75bedc-cde9-456a-b303-565ddb9c404e"
      },
      "execution_count": 7,
      "outputs": [
        {
          "output_type": "execute_result",
          "data": {
            "text/plain": [
              "(40, 40, 10, 10)"
            ]
          },
          "metadata": {},
          "execution_count": 7
        }
      ]
    },
    {
      "cell_type": "markdown",
      "source": [
        "How might we better visualize our data?\n",
        "\n",
        "This is where the data explorer's motto comes in!\n",
        "\n",
        "\"Visualize, Visualize, Visualize\""
      ],
      "metadata": {
        "id": "CBBiLfD9sv73"
      }
    },
    {
      "cell_type": "code",
      "source": [
        "def plot_predictions(train_data=X_train,\n",
        "                     train_labels=y_train,\n",
        "                     test_data=X_test,\n",
        "                     test_labels=y_test,\n",
        "                     predictions=None):\n",
        "  \"\"\"\n",
        "  Plots training data, test data and compares predictions.\n",
        "  \"\"\"\n",
        "  plt.figure(figsize=(10, 7))\n",
        "\n",
        "  #plot training data in blue\n",
        "  plt.scatter(train_data, train_labels, c=\"b\", s=4, label=\"Training data\")\n",
        "\n",
        "  #plot test data in green\n",
        "  plt.scatter(test_data, test_labels, c=\"g\", s=4, label=\"Testing data\")\n",
        "  if predictions is not None:\n",
        "    #plot predictions in red (predictions in test data)\n",
        "    plt.scatter(test_data, predictions, c=\"r\", s=4, label=\"Predictions\")\n",
        "\n",
        "    #show the legend\n",
        "    plt.legend(prop={\"size\": 14});"
      ],
      "metadata": {
        "id": "_2DdqUHktSXC"
      },
      "execution_count": 13,
      "outputs": []
    },
    {
      "cell_type": "code",
      "source": [
        "plot_predictions();"
      ],
      "metadata": {
        "colab": {
          "base_uri": "https://localhost:8080/",
          "height": 599
        },
        "id": "ZnDWEJb4tY8w",
        "outputId": "614ded9f-1492-4d3e-9ba5-85fb4e6bba6e"
      },
      "execution_count": 14,
      "outputs": [
        {
          "output_type": "display_data",
          "data": {
            "text/plain": [
              "<Figure size 1000x700 with 1 Axes>"
            ],
            "image/png": "[encoded data removed]"
          },
          "metadata": {}
        }
      ]
    },
    {
      "cell_type": "markdown",
      "source": [
        "## 2. Build model\n",
        "\n",
        "our first PyTorch model!\n",
        "\n",
        "This is very exciting... let's do it!\n",
        "\n",
        "Because we're going to be building classes throughout the course, I'd recommend getting familiar with OOP in python: https://realpython.com/python3-object-oriented-programming/\n",
        "\n",
        "What our model does:\n",
        "* start with the random values (weight, bias)\n",
        "\n",
        "* Look at training data and adjust the random values to better represent (or get closer to) the ideal values (the weight & bias values we used to create the data)\n",
        "\n",
        "How does it do so?\n",
        "\n",
        "Through two main algorithms:\n",
        "1. Gradient descent - https://youtu.be/IHZwWFHWa-w\n",
        "2. back propagation - https://youtu.be/IIg3gGewQ5U\n"
      ],
      "metadata": {
        "id": "A8Nl2mvnvdMV"
      }
    },
    {
      "cell_type": "code",
      "source": [
        "from typing_extensions import Required\n",
        "#create linear regression model class\n",
        "class LinearRegressionModel(nn.Module):\n",
        "    def __init__(self):\n",
        "        super().__init__()\n",
        "        self.weights = nn.parameter(torch.randn(1,\n",
        "                                                requires_grad = True,\n",
        "                                                dtype=torch.float))\n",
        "        self.bias = nn.parameter(torch.randn(1,\n",
        "                                             requires_grad=True,\n",
        "                                             dtype=torch.float))\n",
        "        #Forward method to define the computation in the model\n",
        "        def forward(self, x: torch.Tensor) -> torch.Tensor:\n",
        "            return self.weights * x + self.bias  #this is the linear regression formula\n",
        "\n",
        "\n",
        "\n"
      ],
      "metadata": {
        "id": "kMcpCEABv84C"
      },
      "execution_count": 15,
      "outputs": []
    }
  ]
}