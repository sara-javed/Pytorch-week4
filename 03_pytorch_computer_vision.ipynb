{
  "nbformat": 4,
  "nbformat_minor": 0,
  "metadata": {
    "colab": {
      "provenance": [],
      "authorship_tag": "ABX9TyMbacuSmDJcv2Wgr3TFkL7W",
      "include_colab_link": true
    },
    "kernelspec": {
      "name": "python3",
      "display_name": "Python 3"
    },
    "language_info": {
      "name": "python"
    }
  },
  "cells": [
    {
      "cell_type": "markdown",
      "metadata": {
        "id": "view-in-github",
        "colab_type": "text"
      },
      "source": [
        "<a href=\"https://colab.research.google.com/github/sara-javed/Pytorch-week4/blob/main/03_pytorch_computer_vision.ipynb\" target=\"_parent\"><img src=\"https://colab.research.google.com/assets/colab-badge.svg\" alt=\"Open In Colab\"/></a>"
      ]
    },
    {
      "cell_type": "markdown",
      "source": [
        "**PyTorch Computer Vision**\n",
        "* See reference notebook - https://gitub.com/mrdbourke/pytorch-deep-learning/blob/main/03_pytorch_computer_vision_ipynb\n",
        "\n",
        "* See reference online book - https://www.learnpytorch.io/03_pytorch_computer_vision/\n"
      ],
      "metadata": {
        "id": "5HtdjlY0_7Sp"
      }
    },
    {
      "cell_type": "markdown",
      "source": [
        "**0.Computer vision libaries in PytTorch**\n",
        "\n",
        "* torchvision - base domain library for PyTorch computer vision\n",
        "*"
      ],
      "metadata": {
        "id": "zxf6CqLxCF0N"
      }
    }
  ]
}